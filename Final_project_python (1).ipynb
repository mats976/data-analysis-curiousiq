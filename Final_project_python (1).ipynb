{
  "nbformat": 4,
  "nbformat_minor": 0,
  "metadata": {
    "colab": {
      "private_outputs": true,
      "provenance": []
    },
    "kernelspec": {
      "name": "python3",
      "display_name": "Python 3"
    },
    "language_info": {
      "name": "python"
    }
  },
  "cells": [
    {
      "cell_type": "code",
      "execution_count": null,
      "metadata": {
        "id": "NGmx_otxfwqe"
      },
      "outputs": [],
      "source": [
        "import pandas as pd\n",
        "import numpy as np\n",
        "import matplotlib.pyplot as plt\n",
        "\n"
      ]
    },
    {
      "cell_type": "code",
      "source": [
        "df = pd.read_csv('Listings_small.csv')"
      ],
      "metadata": {
        "id": "7CB3wO9UgTAb"
      },
      "execution_count": null,
      "outputs": []
    },
    {
      "cell_type": "markdown",
      "source": [
        "(1) Find the data types for each column for listings dataset"
      ],
      "metadata": {
        "id": "4U-dR2NqhaDm"
      }
    },
    {
      "cell_type": "code",
      "source": [
        "df"
      ],
      "metadata": {
        "id": "FzRyNe29hdTH"
      },
      "execution_count": null,
      "outputs": []
    },
    {
      "cell_type": "code",
      "source": [
        "df.dtypes"
      ],
      "metadata": {
        "id": "wng_PyPGgy6Z"
      },
      "execution_count": null,
      "outputs": []
    },
    {
      "cell_type": "markdown",
      "source": [
        "(2)  Find the descriptive statistics for listings dataset"
      ],
      "metadata": {
        "id": "x6a_yYp8hv1u"
      }
    },
    {
      "cell_type": "code",
      "source": [
        "df.describe"
      ],
      "metadata": {
        "id": "-NzIaSa-hN20"
      },
      "execution_count": null,
      "outputs": []
    },
    {
      "cell_type": "markdown",
      "source": [
        "(3) Find how many null values per column\n"
      ],
      "metadata": {
        "id": "cseCwIFSiQ9Q"
      }
    },
    {
      "cell_type": "code",
      "source": [
        "df.isnull(). sum()"
      ],
      "metadata": {
        "id": "PziwkiMBi4wZ"
      },
      "execution_count": null,
      "outputs": []
    },
    {
      "cell_type": "markdown",
      "source": [
        "(4)  Find how many listings per property type"
      ],
      "metadata": {
        "id": "IjbfnuFMkJ2P"
      }
    },
    {
      "cell_type": "code",
      "source": [
        "df['property_type']. value_counts() "
      ],
      "metadata": {
        "id": "fk_BGXLQlDij"
      },
      "execution_count": null,
      "outputs": []
    },
    {
      "cell_type": "markdown",
      "source": [
        "(5)  Replace f/t values of instant bookable column to No/Yes respectively (hint: inplace = True)\n"
      ],
      "metadata": {
        "id": "oFYpGgGVlnEH"
      }
    },
    {
      "cell_type": "code",
      "source": [
        "df.instant_bookable.replace(('f', 't'),('No', 'Yes'),inplace=True)"
      ],
      "metadata": {
        "id": "Co4IMtemnvsc"
      },
      "execution_count": null,
      "outputs": []
    },
    {
      "cell_type": "markdown",
      "source": [
        "(6)  Sort dataset by price in descending order (hint: inplace = True"
      ],
      "metadata": {
        "id": "R3E318tMvj5E"
      }
    },
    {
      "cell_type": "code",
      "source": [
        "df.sort_values( by= 'price', ascending=True )"
      ],
      "metadata": {
        "id": "YKaR0p7TwqOk"
      },
      "execution_count": null,
      "outputs": []
    },
    {
      "cell_type": "markdown",
      "source": [
        "(7) Fill empty (nan) values of host_response_time to N/A\n"
      ],
      "metadata": {
        "id": "jkWEAGijSZJT"
      }
    },
    {
      "cell_type": "code",
      "source": [
        "df['host_response_time'] = df['host_response_time'].replace(np.NaN, 'N/A')\n"
      ],
      "metadata": {
        "id": "KQV9KE35c8cI"
      },
      "execution_count": null,
      "outputs": []
    },
    {
      "cell_type": "code",
      "source": [
        "df"
      ],
      "metadata": {
        "id": "9XknP3wkfb_Z"
      },
      "execution_count": null,
      "outputs": []
    },
    {
      "cell_type": "markdown",
      "source": [
        "(8)  Find how many listings per host_response_time in a pie chart (hint: unique() and \n",
        "value_counts()"
      ],
      "metadata": {
        "id": "Irt5GhN5gdt5"
      }
    },
    {
      "cell_type": "code",
      "source": [
        "df['host_response_time'].unique()"
      ],
      "metadata": {
        "id": "P4Pzeg-eUh34"
      },
      "execution_count": null,
      "outputs": []
    },
    {
      "cell_type": "code",
      "source": [
        "df['host_response_time'].drop_duplicates()"
      ],
      "metadata": {
        "id": "KlAmqGLIVAL9"
      },
      "execution_count": null,
      "outputs": []
    },
    {
      "cell_type": "code",
      "source": [
        "df['host_response_time']. value_counts()"
      ],
      "metadata": {
        "id": "hMY_sVvDOjsq"
      },
      "execution_count": null,
      "outputs": []
    },
    {
      "cell_type": "code",
      "source": [
        "labels = df.host_response_time\n",
        "sizes = df.value_counts"
      ],
      "metadata": {
        "id": "PzjERt3Ajos0"
      },
      "execution_count": null,
      "outputs": []
    },
    {
      "cell_type": "code",
      "execution_count": null,
      "metadata": {
        "id": "fOLOHbYgTNeu"
      },
      "outputs": [],
      "source": [
        "labels = (['within an hour','within a few hours', 'within a day',\n",
        "       'a few days or more'])\n",
        "sizes = (['266','154','115','32'])\n",
        "explode = (0.1, 0, 0, 0)  # only \"explode\" the 1st slice (The biggest)\n",
        "\n",
        "fig1, ax1 = plt.subplots()\n",
        "ax1.pie( sizes,  labels = labels, autopct='%1.1f%%', shadow=True, startangle=90, explode= (0.1, 0, 0, 0))\n",
        "ax1.axis('equal')    # Equal aspect ratio ensures that pie is drawn as a circle.\n",
        "\n",
        "plt.show()"
      ]
    },
    {
      "cell_type": "markdown",
      "source": [
        "(9)  Find the average price per city and visualize it in a sorted, bar chart"
      ],
      "metadata": {
        "id": "v-VhZUUgpFlq"
      }
    },
    {
      "cell_type": "code",
      "source": [
        "df ['city'].value_counts()"
      ],
      "metadata": {
        "id": "gni4Ms8nyWPB"
      },
      "execution_count": null,
      "outputs": []
    },
    {
      "cell_type": "code",
      "source": [
        "df.groupby('city')['price'].agg(['mean']).sort_values('mean', ascending=False)"
      ],
      "metadata": {
        "id": "bjerAEZxQrFy"
      },
      "execution_count": null,
      "outputs": []
    },
    {
      "cell_type": "code",
      "source": [
        "city = list({'Mexico City', 'Cape Town', 'Bangkok', 'Sydney',\n",
        "             'Hong Kong', 'Istanbul', 'Rio de Janeiro', 'New York',\n",
        "             'Paris', 'Rome'})\n",
        "price = list({2392.81,  2101.61,  1673.82,  1110.43,  979.00, \n",
        "               557.06,  431.37, 151.34,  107.65,  87.55})\n",
        "  \n",
        "fig = plt.figure(figsize = (10, 5))\n",
        " \n",
        "# creating the bar plot\n",
        "plt.bar( city, price , color = 'blue', width = 0.5)\n",
        "\n",
        "plt.xlabel('city')\n",
        "plt.ylabel ('price')\n",
        "plt.title('Average Price per City')\n",
        "#Add label to x axis \n",
        "#Add label to y axis\n",
        "#Add title to plot\n",
        "plt.show()"
      ],
      "metadata": {
        "id": "wqb01rQI-YCs"
      },
      "execution_count": null,
      "outputs": []
    }
  ]
}